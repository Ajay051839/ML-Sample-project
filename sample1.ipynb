{
 "cells": [
  {
   "cell_type": "code",
   "execution_count": 1,
   "id": "ec136b7a-734e-4d27-8a3b-4b9975a83160",
   "metadata": {},
   "outputs": [
    {
     "name": "stdout",
     "output_type": "stream",
     "text": [
      "Hello World\n"
     ]
    }
   ],
   "source": [
    "print(\"Hello World\")"
   ]
  },
  {
   "cell_type": "markdown",
   "id": "476220be-2210-4933-9b6b-09ff2ca3c264",
   "metadata": {},
   "source": [
    "Performing Sum"
   ]
  },
  {
   "cell_type": "code",
   "execution_count": 2,
   "id": "fb2c3d13-0247-46ed-8b1a-33f4be02fa99",
   "metadata": {},
   "outputs": [
    {
     "data": {
      "text/plain": [
       "14"
      ]
     },
     "execution_count": 2,
     "metadata": {},
     "output_type": "execute_result"
    }
   ],
   "source": [
    "2+12"
   ]
  },
  {
   "cell_type": "code",
   "execution_count": 3,
   "id": "0e0007fb-3493-49d2-a8d5-f38a88b13c61",
   "metadata": {},
   "outputs": [],
   "source": [
    "import pandas as pd\n",
    "import numpy as np\n",
    "import matplotlib.pyplot as plt\n",
    "import sklearn"
   ]
  },
  {
   "cell_type": "code",
   "execution_count": null,
   "id": "dbade064-95b0-4edc-b3ae-c52c69cbb013",
   "metadata": {},
   "outputs": [],
   "source": []
  }
 ],
 "metadata": {
  "kernelspec": {
   "display_name": "Python 3 (ipykernel)",
   "language": "python",
   "name": "python3"
  },
  "language_info": {
   "codemirror_mode": {
    "name": "ipython",
    "version": 3
   },
   "file_extension": ".py",
   "mimetype": "text/x-python",
   "name": "python",
   "nbconvert_exporter": "python",
   "pygments_lexer": "ipython3",
   "version": "3.10.2"
  }
 },
 "nbformat": 4,
 "nbformat_minor": 5
}
